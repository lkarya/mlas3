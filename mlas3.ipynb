{
 "cells": [
  {
   "cell_type": "code",
   "execution_count": null,
   "id": "9aca7ff7",
   "metadata": {},
   "outputs": [],
   "source": [
    "# Provide a few examples of various types of machine learning.\n",
    "These are three types of machine learning: supervised learning, unsupervised learning, and reinforcement learning.\n",
    "    \n",
    "# Examine the various forms of machine learning.  \n",
    "supervised learning, unsupervised learning, and reinforcement learning.\n",
    "\n",
    "# Is machine learning capable of solving all problems? Give a detailed explanation of your answer.\n",
    "This is the philosophy that, given enough data, machine learning algorithms can solve all of humanitys problems.\n",
    "\n",
    "# Can you explain the various forms of supervised learning? Explain each one with an example application.\n",
    "Machine learning is one of the most common applications of Artificial Intelligence. \n",
    "A machine learns to execute tasks from the data fed in it. \n",
    "And with experience, its performance in a given task improves\n"
   ]
  }
 ],
 "metadata": {
  "kernelspec": {
   "display_name": "Python 3 (ipykernel)",
   "language": "python",
   "name": "python3"
  },
  "language_info": {
   "codemirror_mode": {
    "name": "ipython",
    "version": 3
   },
   "file_extension": ".py",
   "mimetype": "text/x-python",
   "name": "python",
   "nbconvert_exporter": "python",
   "pygments_lexer": "ipython3",
   "version": "3.9.7"
  }
 },
 "nbformat": 4,
 "nbformat_minor": 5
}
